{
 "cells": [
  {
   "cell_type": "code",
   "execution_count": 4,
   "metadata": {},
   "outputs": [],
   "source": [
    "import os\n",
    "import nibabel as nib\n",
    "import numpy as np\n",
    "from auto_flow_pipeline.data_io.logging_setup import setup_logger\n",
    "from auto_flow_pipeline.inference.segnet.model_loader import load_segnet\n",
    "import traceback\n",
    "import logging\n",
    "from typing import Any, Tuple\n",
    "from auto_flow_pipeline.visualization.inference.segnet.run_segnet.generate_gifs import generate_four_row_gifs_for_slices_w_pred\n",
    "from auto_flow_pipeline.inference.segnet.run_segnet import run_a_and_p_segnet_inference"
   ]
  },
  {
   "cell_type": "code",
   "execution_count": 2,
   "metadata": {},
   "outputs": [
    {
     "name": "stderr",
     "output_type": "stream",
     "text": [
      "2025-03-03 17:56:57,608 - INFO - Loading SegNet model...\n",
      "2025-03-03 17:56:57.680853: I tensorflow/stream_executor/cuda/cuda_gpu_executor.cc:980] successful NUMA node read from SysFS had negative value (-1), but there must be at least one NUMA node, so returning NUMA node zero\n",
      "2025-03-03 17:56:57.738071: I tensorflow/stream_executor/cuda/cuda_gpu_executor.cc:980] successful NUMA node read from SysFS had negative value (-1), but there must be at least one NUMA node, so returning NUMA node zero\n",
      "2025-03-03 17:56:57.738504: I tensorflow/stream_executor/cuda/cuda_gpu_executor.cc:980] successful NUMA node read from SysFS had negative value (-1), but there must be at least one NUMA node, so returning NUMA node zero\n",
      "2025-03-03 17:56:57.846344: I tensorflow/core/platform/cpu_feature_guard.cc:193] This TensorFlow binary is optimized with oneAPI Deep Neural Network Library (oneDNN) to use the following CPU instructions in performance-critical operations:  SSE4.1 SSE4.2 AVX AVX2 FMA\n",
      "To enable them in other operations, rebuild TensorFlow with the appropriate compiler flags.\n",
      "2025-03-03 17:56:57.847260: I tensorflow/stream_executor/cuda/cuda_gpu_executor.cc:980] successful NUMA node read from SysFS had negative value (-1), but there must be at least one NUMA node, so returning NUMA node zero\n",
      "2025-03-03 17:56:57.847534: I tensorflow/stream_executor/cuda/cuda_gpu_executor.cc:980] successful NUMA node read from SysFS had negative value (-1), but there must be at least one NUMA node, so returning NUMA node zero\n",
      "2025-03-03 17:56:57.847740: I tensorflow/stream_executor/cuda/cuda_gpu_executor.cc:980] successful NUMA node read from SysFS had negative value (-1), but there must be at least one NUMA node, so returning NUMA node zero\n",
      "2025-03-03 17:56:58.267026: I tensorflow/stream_executor/cuda/cuda_gpu_executor.cc:980] successful NUMA node read from SysFS had negative value (-1), but there must be at least one NUMA node, so returning NUMA node zero\n",
      "2025-03-03 17:56:58.267283: I tensorflow/stream_executor/cuda/cuda_gpu_executor.cc:980] successful NUMA node read from SysFS had negative value (-1), but there must be at least one NUMA node, so returning NUMA node zero\n",
      "2025-03-03 17:56:58.267489: I tensorflow/stream_executor/cuda/cuda_gpu_executor.cc:980] successful NUMA node read from SysFS had negative value (-1), but there must be at least one NUMA node, so returning NUMA node zero\n",
      "2025-03-03 17:56:58.267667: I tensorflow/core/common_runtime/gpu/gpu_device.cc:1616] Created device /job:localhost/replica:0/task:0/device:GPU:0 with 38585 MB memory:  -> device: 0, name: Quadro RTX 8000, pci bus id: 0000:09:00.0, compute capability: 7.5\n"
     ]
    },
    {
     "name": "stdout",
     "output_type": "stream",
     "text": [
      "GPU(s) detected: [PhysicalDevice(name='/physical_device:GPU:0', device_type='GPU')]\n",
      "Enabled memory growth on: PhysicalDevice(name='/physical_device:GPU:0', device_type='GPU')\n",
      "Loaded SegNet model from: /home/ayeluru/mnt/maxwell/projects/Aorta_pulmonary_artery_localization/final_models/segnet.hdf5\n"
     ]
    }
   ],
   "source": [
    "base_output_folder = '/home/ayeluru/mnt/maxwell/projects/Aorta_pulmonary_artery_localization/ge_testing/patients'  # Update this path as needed\n",
    "patient_name = \"Bepemhir\"  # Update this patient name as needed\n",
    "\n",
    "logger = setup_logger('main_logger', base_output_folder)\n",
    "logger.info(\"Loading SegNet model...\")\n",
    "model = load_segnet()  # Load the SegNet model\n"
   ]
  },
  {
   "cell_type": "code",
   "execution_count": 5,
   "metadata": {},
   "outputs": [
    {
     "name": "stderr",
     "output_type": "stream",
     "text": [
      "2025-03-03 17:58:53,574 - INFO - Loading composed aorta spline from /home/ayeluru/mnt/maxwell/projects/Aorta_pulmonary_artery_localization/ge_testing/patients/Bepemhir/aorta_spline_composed.nii.gz\n",
      "2025-03-03 17:58:57,013 - INFO - Running model inference for aorta spline\n",
      "2025-03-03 17:58:57,014 - INFO - Input data shape: (20, 256, 256, 5, 6)\n",
      "2025-03-03 17:58:57,015 - INFO - Starting SegNet inference.\n",
      "2025-03-03 17:58:57,489 - INFO - Collapsed to shape: (100, 256, 256, 6)\n",
      "2025-03-03 17:58:58.536561: I tensorflow/stream_executor/cuda/cuda_dnn.cc:384] Loaded cuDNN version 8907\n"
     ]
    },
    {
     "name": "stdout",
     "output_type": "stream",
     "text": [
      "4/4 [==============================] - 5s 348ms/step\n"
     ]
    },
    {
     "name": "stderr",
     "output_type": "stream",
     "text": [
      "2025-03-03 17:59:02,519 - INFO - Model prediction successful.\n",
      "2025-03-03 17:59:02,521 - INFO - Prediction shape: (20, 256, 256, 5)\n",
      "2025-03-03 17:59:02,968 - INFO - Loading composed pulmonary spline from /home/ayeluru/mnt/maxwell/projects/Aorta_pulmonary_artery_localization/ge_testing/patients/Bepemhir/pulmonary_spline_composed.nii.gz\n",
      "2025-03-03 17:59:06,354 - INFO - Running model inference for pulmonary spline\n",
      "2025-03-03 17:59:06,356 - INFO - Input data shape: (20, 256, 256, 5, 6)\n",
      "2025-03-03 17:59:06,356 - INFO - Starting SegNet inference.\n",
      "2025-03-03 17:59:06,845 - INFO - Collapsed to shape: (100, 256, 256, 6)\n"
     ]
    },
    {
     "name": "stdout",
     "output_type": "stream",
     "text": [
      "4/4 [==============================] - 0s 105ms/step\n"
     ]
    },
    {
     "name": "stderr",
     "output_type": "stream",
     "text": [
      "2025-03-03 17:59:07,462 - INFO - Model prediction successful.\n",
      "2025-03-03 17:59:07,464 - INFO - Prediction shape: (20, 256, 256, 5)\n",
      "2025-03-03 17:59:07,896 - INFO - Inference complete. Output saved at: /home/ayeluru/mnt/maxwell/projects/Aorta_pulmonary_artery_localization/ge_testing/patients/Bepemhir/segnet_pulmonary-pred_processed.nii.gz\n"
     ]
    }
   ],
   "source": [
    "aorta_input, aorta_prediction, pulmonary_input, pulmonary_prediction = run_a_and_p_segnet_inference(model, base_output_folder, patient_name)\n"
   ]
  }
 ],
 "metadata": {
  "kernelspec": {
   "display_name": "auto-flow_3-9",
   "language": "python",
   "name": "python3"
  },
  "language_info": {
   "codemirror_mode": {
    "name": "ipython",
    "version": 3
   },
   "file_extension": ".py",
   "mimetype": "text/x-python",
   "name": "python",
   "nbconvert_exporter": "python",
   "pygments_lexer": "ipython3",
   "version": "3.9.15"
  }
 },
 "nbformat": 4,
 "nbformat_minor": 2
}
