{
 "cells": [
  {
   "cell_type": "code",
   "execution_count": 1,
   "id": "972cf6e6",
   "metadata": {},
   "outputs": [
    {
     "name": "stdout",
     "output_type": "stream",
     "text": [
      "IT IS True, GDCM IS LOCKED AND LOADED\n"
     ]
    }
   ],
   "source": [
    "import numpy as np\n",
    "import h5py\n",
    "from scipy.ndimage import zoom, laplace, gaussian_filter, rotate\n",
    "from scipy.interpolate import RegularGridInterpolator as RGI\n",
    "from scipy.interpolate import splprep, splev\n",
    "import matplotlib.pyplot as plt\n",
    "from matplotlib.path import Path\n",
    "import os\n",
    "from tqdm import tqdm\n",
    "import json\n",
    "import traceback\n",
    "import pydicom\n",
    "import pickle\n",
    "import datetime\n",
    "import copy\n",
    "import csv\n",
    "import pandas as pd\n",
    "import multiprocessing as mp\n",
    "import gc\n",
    "# Test if gdcm works for decompressing JPEG 2000\n",
    "print(\"IT IS {}, GDCM IS LOCKED AND LOADED\".format(pydicom.pixel_data_handlers.gdcm_handler.is_available()))\n",
    "\n",
    "# import cv2\n",
    "# from mpl_toolkits.mplot3d import Axes3D\n",
    "# import matplotlib\n",
    "# matplotlib.use('Agg')\n"
   ]
  },
  {
   "cell_type": "code",
   "execution_count": null,
   "id": "f66105a2",
   "metadata": {},
   "outputs": [],
   "source": []
  },
  {
   "cell_type": "code",
   "execution_count": 4,
   "id": "f1af113b",
   "metadata": {},
   "outputs": [],
   "source": [
    "PROJECTPATH = '/home/ayeluru/4d-flow-automation/'\n",
    "DATAPATH = os.path.join(PROJECTPATH,'ge-testing')\n",
    "ANNOPATH = os.path.join(PROJECTPATH, 'ge-testing')\n",
    "\n",
    "FLOWPATH = os.path.join(DATAPATH, 'ge-volumetric-cardiac-4dflow.hdf5')\n",
    "METAPATH = os.path.join(DATAPATH,'ge-cardiac-4dflow-metadata.pkl')\n",
    "\n",
    "# CENTROIDPATH = os.path.join(ANNOPATH,'flow_2d_cartesian_centroids_19April2023.pkl')"
   ]
  },
  {
   "cell_type": "code",
   "execution_count": 5,
   "id": "31d7939d",
   "metadata": {},
   "outputs": [],
   "source": [
    "with open(METAPATH, \"rb\") as metafile:\n",
    "    allmeta = pickle.load(metafile)\n",
    "    \n",
    "# with open(CENTROIDPATH, \"rb\") as cf:\n",
    "#     allcentroids = pickle.load(cf)\n",
    "flowdata = h5py.File(FLOWPATH, 'r')"
   ]
  },
  {
   "cell_type": "code",
   "execution_count": 25,
   "id": "db8bd8aa",
   "metadata": {},
   "outputs": [],
   "source": [
    "flowdata.close()"
   ]
  },
  {
   "cell_type": "code",
   "execution_count": 7,
   "id": "0c396c34",
   "metadata": {},
   "outputs": [],
   "source": [
    "output.close()"
   ]
  },
  {
   "cell_type": "code",
   "execution_count": 6,
   "id": "edbcacbc",
   "metadata": {},
   "outputs": [],
   "source": [
    "OUTPUT = os.path.join(DATAPATH, 'ge-volumetric-cardiac-magdata.hdf5')\n",
    "# OUTCOORDS = os.path.join(ANNOPATH, 'localizations_rcs_coords_19April2023.pkl')\n",
    "OUTSCALING = os.path.join(ANNOPATH, 'ge-localizations_rcs_scale_factors_040225.pkl')\n",
    "\n",
    "try:\n",
    "    os.remove(OUTPUT)\n",
    "#     os.remove(OUTCOORDS)\n",
    "#     os.remove(OUTSCALING)\n",
    "except:\n",
    "    pass\n",
    "output = h5py.File(OUTPUT, 'a')"
   ]
  },
  {
   "cell_type": "code",
   "execution_count": 21,
   "id": "36f25f0e",
   "metadata": {},
   "outputs": [
    {
     "name": "stdout",
     "output_type": "stream",
     "text": [
      "<HDF5 file \"volumetric-cardiac-magdata.hdf5\" (mode r+)>\n"
     ]
    }
   ],
   "source": [
    "print(output)"
   ]
  },
  {
   "cell_type": "code",
   "execution_count": 7,
   "id": "0f19e979",
   "metadata": {
    "scrolled": true
   },
   "outputs": [
    {
     "name": "stderr",
     "output_type": "stream",
     "text": [
      "  6%|██████▍                                                                                               | 1/16 [00:36<09:11, 36.79s/it]"
     ]
    },
    {
     "name": "stdout",
     "output_type": "stream",
     "text": [
      "Completed successfully @ Bibipnox, shape (192, 192, 64, 30)\n"
     ]
    },
    {
     "name": "stderr",
     "output_type": "stream",
     "text": [
      "\r\n",
      " 12%|████████████▊                                                                                         | 2/16 [00:59<06:35, 28.24s/it]"
     ]
    },
    {
     "name": "stdout",
     "output_type": "stream",
     "text": [
      "Completed successfully @ Cakimtol, shape (192, 192, 64, 20)\n"
     ]
    },
    {
     "name": "stderr",
     "output_type": "stream",
     "text": [
      "\r\n",
      " 19%|███████████████████▏                                                                                  | 3/16 [01:35<06:53, 31.84s/it]"
     ]
    },
    {
     "name": "stdout",
     "output_type": "stream",
     "text": [
      "Completed successfully @ Dicibi, shape (192, 192, 64, 30)\n"
     ]
    },
    {
     "name": "stderr",
     "output_type": "stream",
     "text": [
      "\r\n",
      " 25%|█████████████████████████▌                                                                            | 4/16 [02:11<06:41, 33.50s/it]"
     ]
    },
    {
     "name": "stdout",
     "output_type": "stream",
     "text": [
      "Completed successfully @ Finkebet, shape (192, 192, 64, 30)\n"
     ]
    },
    {
     "name": "stderr",
     "output_type": "stream",
     "text": [
      "\r\n",
      " 31%|███████████████████████████████▉                                                                      | 5/16 [02:48<06:25, 35.01s/it]"
     ]
    },
    {
     "name": "stdout",
     "output_type": "stream",
     "text": [
      "Completed successfully @ Flopika, shape (192, 192, 64, 30)\n"
     ]
    },
    {
     "name": "stderr",
     "output_type": "stream",
     "text": [
      "\r\n",
      " 38%|██████████████████████████████████████▎                                                               | 6/16 [03:25<05:54, 35.47s/it]"
     ]
    },
    {
     "name": "stdout",
     "output_type": "stream",
     "text": [
      "Completed successfully @ Gifice, shape (192, 192, 64, 20)\n"
     ]
    },
    {
     "name": "stderr",
     "output_type": "stream",
     "text": [
      "\r\n",
      " 44%|████████████████████████████████████████████▋                                                         | 7/16 [05:11<08:46, 58.48s/it]"
     ]
    },
    {
     "name": "stdout",
     "output_type": "stream",
     "text": [
      "Completed successfully @ Hopitat, shape (192, 192, 64, 20)\n"
     ]
    },
    {
     "name": "stderr",
     "output_type": "stream",
     "text": [
      "\r\n",
      " 50%|███████████████████████████████████████████████████                                                   | 8/16 [05:34<06:17, 47.21s/it]"
     ]
    },
    {
     "name": "stdout",
     "output_type": "stream",
     "text": [
      "Completed successfully @ Jugesag, shape (192, 192, 64, 20)\n"
     ]
    },
    {
     "name": "stderr",
     "output_type": "stream",
     "text": [
      "\r\n",
      " 56%|█████████████████████████████████████████████████████████▍                                            | 9/16 [05:59<04:42, 40.40s/it]"
     ]
    },
    {
     "name": "stdout",
     "output_type": "stream",
     "text": [
      "Completed successfully @ Nesescet, shape (192, 192, 64, 20)\n"
     ]
    },
    {
     "name": "stderr",
     "output_type": "stream",
     "text": [
      "\r\n",
      " 62%|███████████████████████████████████████████████████████████████▏                                     | 10/16 [06:27<03:38, 36.46s/it]"
     ]
    },
    {
     "name": "stdout",
     "output_type": "stream",
     "text": [
      "Completed successfully @ Nosaybos, shape (192, 192, 64, 20)\n"
     ]
    },
    {
     "name": "stderr",
     "output_type": "stream",
     "text": [
      "\r\n",
      " 69%|█████████████████████████████████████████████████████████████████████▍                               | 11/16 [06:55<02:49, 33.84s/it]"
     ]
    },
    {
     "name": "stdout",
     "output_type": "stream",
     "text": [
      "Completed successfully @ Nuebafru, shape (192, 192, 64, 20)\n"
     ]
    },
    {
     "name": "stderr",
     "output_type": "stream",
     "text": [
      "\r\n",
      " 75%|███████████████████████████████████████████████████████████████████████████▊                         | 12/16 [07:31<02:18, 34.54s/it]"
     ]
    },
    {
     "name": "stdout",
     "output_type": "stream",
     "text": [
      "Completed successfully @ Petafi, shape (192, 192, 64, 20)\n"
     ]
    },
    {
     "name": "stderr",
     "output_type": "stream",
     "text": [
      "\r\n",
      " 81%|██████████████████████████████████████████████████████████████████████████████████                   | 13/16 [07:55<01:34, 31.55s/it]"
     ]
    },
    {
     "name": "stdout",
     "output_type": "stream",
     "text": [
      "Completed successfully @ Quakitu, shape (192, 192, 64, 20)\n"
     ]
    },
    {
     "name": "stderr",
     "output_type": "stream",
     "text": [
      "\r\n",
      " 88%|████████████████████████████████████████████████████████████████████████████████████████▍            | 14/16 [08:21<00:59, 29.81s/it]"
     ]
    },
    {
     "name": "stdout",
     "output_type": "stream",
     "text": [
      "Completed successfully @ Quequeri, shape (192, 192, 64, 20)\n"
     ]
    },
    {
     "name": "stderr",
     "output_type": "stream",
     "text": [
      "\r\n",
      " 94%|██████████████████████████████████████████████████████████████████████████████████████████████▋      | 15/16 [08:50<00:29, 29.62s/it]"
     ]
    },
    {
     "name": "stdout",
     "output_type": "stream",
     "text": [
      "Completed successfully @ Quisculjug, shape (192, 192, 64, 20)\n"
     ]
    },
    {
     "name": "stderr",
     "output_type": "stream",
     "text": [
      "100%|█████████████████████████████████████████████████████████████████████████████████████████████████████| 16/16 [09:23<00:00, 35.24s/it]"
     ]
    },
    {
     "name": "stdout",
     "output_type": "stream",
     "text": [
      "Completed successfully @ Tabipa, shape (192, 192, 64, 30)\n"
     ]
    },
    {
     "name": "stderr",
     "output_type": "stream",
     "text": [
      "\n"
     ]
    },
    {
     "ename": "NameError",
     "evalue": "name 'OUTCOORDS' is not defined",
     "output_type": "error",
     "traceback": [
      "\u001b[0;31m---------------------------------------------------------------------------\u001b[0m",
      "\u001b[0;31mNameError\u001b[0m                                 Traceback (most recent call last)",
      "\u001b[0;32m/tmp/ipykernel_1280944/4149589385.py\u001b[0m in \u001b[0;36m<module>\u001b[0;34m\u001b[0m\n\u001b[1;32m     44\u001b[0m         \u001b[0mprint\u001b[0m\u001b[0;34m(\u001b[0m\u001b[0;34m'Completed successfully @ {}, shape {}'\u001b[0m\u001b[0;34m.\u001b[0m\u001b[0mformat\u001b[0m\u001b[0;34m(\u001b[0m\u001b[0mk\u001b[0m\u001b[0;34m,\u001b[0m \u001b[0mimout\u001b[0m\u001b[0;34m.\u001b[0m\u001b[0mshape\u001b[0m\u001b[0;34m)\u001b[0m\u001b[0;34m)\u001b[0m\u001b[0;34m\u001b[0m\u001b[0;34m\u001b[0m\u001b[0m\n\u001b[1;32m     45\u001b[0m \u001b[0;34m\u001b[0m\u001b[0m\n\u001b[0;32m---> 46\u001b[0;31m \u001b[0;32mwith\u001b[0m \u001b[0mopen\u001b[0m\u001b[0;34m(\u001b[0m\u001b[0mOUTCOORDS\u001b[0m\u001b[0;34m,\u001b[0m \u001b[0;34m'wb'\u001b[0m\u001b[0;34m)\u001b[0m \u001b[0;32mas\u001b[0m \u001b[0mf\u001b[0m\u001b[0;34m:\u001b[0m\u001b[0;34m\u001b[0m\u001b[0;34m\u001b[0m\u001b[0m\n\u001b[0m\u001b[1;32m     47\u001b[0m     \u001b[0mpickle\u001b[0m\u001b[0;34m.\u001b[0m\u001b[0mdump\u001b[0m\u001b[0;34m(\u001b[0m\u001b[0moutcoords\u001b[0m\u001b[0;34m,\u001b[0m \u001b[0mf\u001b[0m\u001b[0;34m)\u001b[0m\u001b[0;34m\u001b[0m\u001b[0;34m\u001b[0m\u001b[0m\n\u001b[1;32m     48\u001b[0m \u001b[0;32mwith\u001b[0m \u001b[0mopen\u001b[0m\u001b[0;34m(\u001b[0m\u001b[0mOUTSCALING\u001b[0m\u001b[0;34m,\u001b[0m \u001b[0;34m'wb'\u001b[0m\u001b[0;34m)\u001b[0m \u001b[0;32mas\u001b[0m \u001b[0mf\u001b[0m\u001b[0;34m:\u001b[0m\u001b[0;34m\u001b[0m\u001b[0;34m\u001b[0m\u001b[0m\n",
      "\u001b[0;31mNameError\u001b[0m: name 'OUTCOORDS' is not defined"
     ]
    }
   ],
   "source": [
    "def to_rcs(vec, A):\n",
    "    temp = np.ones((4,1))\n",
    "    temp[0:3,0] = vec\n",
    "    return np.squeeze(np.matmul(A,temp)[0:3])\n",
    "\n",
    "\n",
    "DIMS = [192.,192.,64.]\n",
    "outcoords = dict()\n",
    "outscaling = dict()\n",
    "for k in tqdm(list(flowdata.keys())):\n",
    "    if not k in output.keys():\n",
    "        Ainv = allmeta[k]['Ainv_flow']\n",
    "        origshp = flowdata[k].shape\n",
    "        rfactor = DIMS[0] / origshp[0]\n",
    "        cfactor = DIMS[1] / origshp[1]\n",
    "        sfactor = DIMS[2] / origshp[2]\n",
    "        factors = [rfactor, cfactor, sfactor]\n",
    "        outscaling[k] = factors\n",
    "#         outcoords[k] = dict()\n",
    "#         # Handle regular centroids first\n",
    "#         regular_list = ['AV','Ao','PV', 'PA']\n",
    "#         for s in regular_list:\n",
    "#             try:\n",
    "#                 T = len(allcentroids[k+'_'+s])\n",
    "#                 netc = np.zeros((T, 3))\n",
    "#                 for t in range(T):\n",
    "#                     currc = to_rcs(allcentroids[k+'_' + s][t], Ainv)\n",
    "#                     currc = (currc*factors)\n",
    "#                     netc[t,:] = currc\n",
    "#                 outcoords[k][s] = netc\n",
    "#             except:\n",
    "#                 traceback.print_exc()\n",
    "#                 pass\n",
    "            \n",
    "        imdata = np.array(flowdata[k][:,:,:,:,0]).astype('int16')\n",
    "        imout = zoom(imdata, (rfactor, cfactor, sfactor, 1), order=1)\n",
    "        \n",
    "        try:\n",
    "            del output[k]\n",
    "        except:\n",
    "            pass\n",
    "\n",
    "        output.create_dataset(k, data=imout, dtype=np.int16, compression='lzf')\n",
    "        print('Completed successfully @ {}, shape {}'.format(k, imout.shape))\n",
    "            \n",
    "with open(OUTCOORDS, 'wb') as f:\n",
    "    pickle.dump(outcoords, f)\n",
    "with open(OUTSCALING, 'wb') as f:\n",
    "    pickle.dump(outscaling, f)"
   ]
  },
  {
   "cell_type": "code",
   "execution_count": 9,
   "id": "dabab636",
   "metadata": {},
   "outputs": [],
   "source": [
    "OUTSCALING = os.path.join(DATAPATH, 'ge-localizations_rcs_scale_factors_040225.pkl')\n",
    "with open(OUTSCALING, 'wb') as f:\n",
    "    pickle.dump(outscaling, f)\n"
   ]
  },
  {
   "cell_type": "code",
   "execution_count": 10,
   "id": "33d35370",
   "metadata": {},
   "outputs": [],
   "source": [
    "output.close()"
   ]
  },
  {
   "cell_type": "code",
   "execution_count": 35,
   "id": "9ab3f19f",
   "metadata": {
    "scrolled": true
   },
   "outputs": [
    {
     "name": "stderr",
     "output_type": "stream",
     "text": [
      "  3%|██▍                                                                                   | 1/35 [00:37<21:25, 37.82s/it]"
     ]
    },
    {
     "name": "stdout",
     "output_type": "stream",
     "text": [
      "Completed successfully @ Besapol, shape (64, 64, 64, 20)\n"
     ]
    },
    {
     "name": "stderr",
     "output_type": "stream",
     "text": [
      "\r\n",
      "  6%|████▉                                                                                 | 2/35 [01:16<21:07, 38.41s/it]"
     ]
    },
    {
     "name": "stdout",
     "output_type": "stream",
     "text": [
      "Completed successfully @ Deefegi, shape (64, 64, 64, 20)\n"
     ]
    },
    {
     "name": "stderr",
     "output_type": "stream",
     "text": [
      "\r\n",
      "  9%|███████▎                                                                              | 3/35 [01:46<18:29, 34.68s/it]"
     ]
    },
    {
     "name": "stdout",
     "output_type": "stream",
     "text": [
      "Completed successfully @ Dehithu, shape (64, 64, 64, 20)\n"
     ]
    },
    {
     "name": "stderr",
     "output_type": "stream",
     "text": [
      "\r\n",
      " 11%|█████████▊                                                                            | 4/35 [02:25<18:44, 36.27s/it]"
     ]
    },
    {
     "name": "stdout",
     "output_type": "stream",
     "text": [
      "Completed successfully @ Dukasa, shape (64, 64, 64, 20)\n"
     ]
    },
    {
     "name": "stderr",
     "output_type": "stream",
     "text": [
      "\r\n",
      " 14%|████████████▎                                                                         | 5/35 [02:56<17:06, 34.22s/it]"
     ]
    },
    {
     "name": "stdout",
     "output_type": "stream",
     "text": [
      "Completed successfully @ Fegaygun, shape (64, 64, 64, 20)\n"
     ]
    },
    {
     "name": "stderr",
     "output_type": "stream",
     "text": [
      "\r\n",
      " 17%|██████████████▋                                                                       | 6/35 [03:18<14:39, 30.32s/it]"
     ]
    },
    {
     "name": "stdout",
     "output_type": "stream",
     "text": [
      "Completed successfully @ Fenoopub, shape (64, 64, 64, 20)\n"
     ]
    },
    {
     "name": "stderr",
     "output_type": "stream",
     "text": [
      "\r\n",
      " 20%|█████████████████▏                                                                    | 7/35 [03:48<14:03, 30.11s/it]"
     ]
    },
    {
     "name": "stdout",
     "output_type": "stream",
     "text": [
      "Completed successfully @ Fratalooy, shape (64, 64, 64, 20)\n"
     ]
    },
    {
     "name": "stderr",
     "output_type": "stream",
     "text": [
      "\r\n",
      " 23%|███████████████████▋                                                                  | 8/35 [04:14<12:58, 28.83s/it]"
     ]
    },
    {
     "name": "stdout",
     "output_type": "stream",
     "text": [
      "Completed successfully @ Gajefe, shape (64, 64, 64, 20)\n"
     ]
    },
    {
     "name": "stderr",
     "output_type": "stream",
     "text": [
      "\r\n",
      " 26%|██████████████████████                                                                | 9/35 [04:34<11:14, 25.95s/it]"
     ]
    },
    {
     "name": "stdout",
     "output_type": "stream",
     "text": [
      "Completed successfully @ Giretap, shape (64, 64, 64, 20)\n"
     ]
    },
    {
     "name": "stderr",
     "output_type": "stream",
     "text": [
      "\r\n",
      " 29%|████████████████████████▎                                                            | 10/35 [05:04<11:23, 27.33s/it]"
     ]
    },
    {
     "name": "stdout",
     "output_type": "stream",
     "text": [
      "Completed successfully @ Goxankot, shape (64, 64, 64, 20)\n"
     ]
    },
    {
     "name": "stderr",
     "output_type": "stream",
     "text": [
      "\r\n",
      " 31%|██████████████████████████▋                                                          | 11/35 [05:35<11:20, 28.34s/it]"
     ]
    },
    {
     "name": "stdout",
     "output_type": "stream",
     "text": [
      "Completed successfully @ Hetero, shape (64, 64, 64, 20)\n"
     ]
    },
    {
     "name": "stderr",
     "output_type": "stream",
     "text": [
      "\r\n",
      " 34%|█████████████████████████████▏                                                       | 12/35 [06:14<12:06, 31.57s/it]"
     ]
    },
    {
     "name": "stdout",
     "output_type": "stream",
     "text": [
      "Completed successfully @ Hudutre, shape (64, 64, 64, 20)\n"
     ]
    },
    {
     "name": "stderr",
     "output_type": "stream",
     "text": [
      "\r\n",
      " 37%|███████████████████████████████▌                                                     | 13/35 [06:53<12:24, 33.84s/it]"
     ]
    },
    {
     "name": "stdout",
     "output_type": "stream",
     "text": [
      "Completed successfully @ Jefoje, shape (64, 64, 64, 20)\n"
     ]
    },
    {
     "name": "stderr",
     "output_type": "stream",
     "text": [
      "\r\n",
      " 40%|██████████████████████████████████                                                   | 14/35 [07:23<11:26, 32.70s/it]"
     ]
    },
    {
     "name": "stdout",
     "output_type": "stream",
     "text": [
      "Completed successfully @ Kohugonk, shape (64, 64, 64, 20)\n"
     ]
    },
    {
     "name": "stderr",
     "output_type": "stream",
     "text": [
      "\r\n",
      " 43%|████████████████████████████████████▍                                                | 15/35 [08:00<11:23, 34.16s/it]"
     ]
    },
    {
     "name": "stdout",
     "output_type": "stream",
     "text": [
      "Completed successfully @ Mifoyeg, shape (64, 64, 64, 20)\n"
     ]
    },
    {
     "name": "stderr",
     "output_type": "stream",
     "text": [
      "\r\n",
      " 46%|██████████████████████████████████████▊                                              | 16/35 [08:31<10:26, 32.96s/it]"
     ]
    },
    {
     "name": "stdout",
     "output_type": "stream",
     "text": [
      "Completed successfully @ Motale, shape (64, 64, 64, 20)\n"
     ]
    },
    {
     "name": "stderr",
     "output_type": "stream",
     "text": [
      "\r\n",
      " 49%|█████████████████████████████████████████▎                                           | 17/35 [09:01<09:40, 32.25s/it]"
     ]
    },
    {
     "name": "stdout",
     "output_type": "stream",
     "text": [
      "Completed successfully @ Mozufuck, shape (64, 64, 64, 20)\n"
     ]
    },
    {
     "name": "stderr",
     "output_type": "stream",
     "text": [
      "\r\n",
      " 51%|███████████████████████████████████████████▋                                         | 18/35 [09:32<09:00, 31.82s/it]"
     ]
    },
    {
     "name": "stdout",
     "output_type": "stream",
     "text": [
      "Completed successfully @ Narikag, shape (64, 64, 64, 20)\n"
     ]
    },
    {
     "name": "stderr",
     "output_type": "stream",
     "text": [
      "\r\n",
      " 54%|██████████████████████████████████████████████▏                                      | 19/35 [10:05<08:33, 32.11s/it]"
     ]
    },
    {
     "name": "stdout",
     "output_type": "stream",
     "text": [
      "Completed successfully @ Natotag, shape (64, 64, 64, 20)\n"
     ]
    },
    {
     "name": "stderr",
     "output_type": "stream",
     "text": [
      "\r\n",
      " 57%|████████████████████████████████████████████████▌                                    | 20/35 [10:26<07:14, 28.96s/it]"
     ]
    },
    {
     "name": "stdout",
     "output_type": "stream",
     "text": [
      "Completed successfully @ Noukumu, shape (64, 64, 64, 20)\n"
     ]
    },
    {
     "name": "stderr",
     "output_type": "stream",
     "text": [
      "\r\n",
      " 60%|███████████████████████████████████████████████████                                  | 21/35 [11:03<07:16, 31.20s/it]"
     ]
    },
    {
     "name": "stdout",
     "output_type": "stream",
     "text": [
      "Completed successfully @ Nuebafru, shape (64, 64, 64, 20)\n"
     ]
    },
    {
     "name": "stderr",
     "output_type": "stream",
     "text": [
      "\r\n",
      " 63%|█████████████████████████████████████████████████████▍                               | 22/35 [11:33<06:42, 30.92s/it]"
     ]
    },
    {
     "name": "stdout",
     "output_type": "stream",
     "text": [
      "Completed successfully @ Okiegop, shape (64, 64, 64, 20)\n"
     ]
    },
    {
     "name": "stderr",
     "output_type": "stream",
     "text": [
      "\r\n",
      " 66%|███████████████████████████████████████████████████████▊                             | 23/35 [12:04<06:10, 30.85s/it]"
     ]
    },
    {
     "name": "stdout",
     "output_type": "stream",
     "text": [
      "Completed successfully @ Quiflula, shape (64, 64, 64, 20)\n"
     ]
    },
    {
     "name": "stderr",
     "output_type": "stream",
     "text": [
      "\r\n",
      " 69%|██████████████████████████████████████████████████████████▎                          | 24/35 [12:44<06:09, 33.60s/it]"
     ]
    },
    {
     "name": "stdout",
     "output_type": "stream",
     "text": [
      "Completed successfully @ Quisculjug, shape (64, 64, 64, 20)\n"
     ]
    },
    {
     "name": "stderr",
     "output_type": "stream",
     "text": [
      "\r\n",
      " 71%|████████████████████████████████████████████████████████████▋                        | 25/35 [13:07<05:04, 30.41s/it]"
     ]
    },
    {
     "name": "stdout",
     "output_type": "stream",
     "text": [
      "Completed successfully @ Repusug, shape (64, 64, 64, 20)\n"
     ]
    },
    {
     "name": "stderr",
     "output_type": "stream",
     "text": [
      "\r\n",
      " 74%|███████████████████████████████████████████████████████████████▏                     | 26/35 [13:30<04:14, 28.24s/it]"
     ]
    },
    {
     "name": "stdout",
     "output_type": "stream",
     "text": [
      "Completed successfully @ Retasu, shape (64, 64, 64, 20)\n"
     ]
    },
    {
     "name": "stderr",
     "output_type": "stream",
     "text": [
      "\r\n",
      " 77%|█████████████████████████████████████████████████████████████████▌                   | 27/35 [14:00<03:50, 28.81s/it]"
     ]
    },
    {
     "name": "stdout",
     "output_type": "stream",
     "text": [
      "Completed successfully @ Sacureed, shape (64, 64, 64, 20)\n"
     ]
    },
    {
     "name": "stderr",
     "output_type": "stream",
     "text": [
      "\r\n",
      " 80%|████████████████████████████████████████████████████████████████████                 | 28/35 [14:30<03:24, 29.21s/it]"
     ]
    },
    {
     "name": "stdout",
     "output_type": "stream",
     "text": [
      "Completed successfully @ Scoostepip, shape (64, 64, 64, 20)\n"
     ]
    },
    {
     "name": "stderr",
     "output_type": "stream",
     "text": [
      "\r\n",
      " 83%|██████████████████████████████████████████████████████████████████████▍              | 29/35 [14:58<02:52, 28.76s/it]"
     ]
    },
    {
     "name": "stdout",
     "output_type": "stream",
     "text": [
      "Completed successfully @ Semagon, shape (64, 64, 64, 20)\n"
     ]
    },
    {
     "name": "stderr",
     "output_type": "stream",
     "text": [
      "\r\n",
      " 86%|████████████████████████████████████████████████████████████████████████▊            | 30/35 [15:37<02:39, 31.83s/it]"
     ]
    },
    {
     "name": "stdout",
     "output_type": "stream",
     "text": [
      "Completed successfully @ Sifaci, shape (64, 64, 64, 20)\n"
     ]
    },
    {
     "name": "stderr",
     "output_type": "stream",
     "text": [
      "\r\n",
      " 89%|███████████████████████████████████████████████████████████████████████████▎         | 31/35 [16:08<02:05, 31.44s/it]"
     ]
    },
    {
     "name": "stdout",
     "output_type": "stream",
     "text": [
      "Completed successfully @ Tasnicu, shape (64, 64, 64, 20)\n"
     ]
    },
    {
     "name": "stderr",
     "output_type": "stream",
     "text": [
      "\r\n",
      " 91%|█████████████████████████████████████████████████████████████████████████████▋       | 32/35 [16:30<01:25, 28.60s/it]"
     ]
    },
    {
     "name": "stdout",
     "output_type": "stream",
     "text": [
      "Completed successfully @ Tesrenil, shape (64, 64, 64, 20)\n"
     ]
    },
    {
     "name": "stderr",
     "output_type": "stream",
     "text": [
      "\r\n",
      " 94%|████████████████████████████████████████████████████████████████████████████████▏    | 33/35 [16:51<00:52, 26.36s/it]"
     ]
    },
    {
     "name": "stdout",
     "output_type": "stream",
     "text": [
      "Completed successfully @ Tibomol, shape (64, 64, 64, 20)\n"
     ]
    },
    {
     "name": "stderr",
     "output_type": "stream",
     "text": [
      "\r\n",
      " 97%|██████████████████████████████████████████████████████████████████████████████████▌  | 34/35 [17:27<00:29, 29.50s/it]"
     ]
    },
    {
     "name": "stdout",
     "output_type": "stream",
     "text": [
      "Completed successfully @ Tiheerien, shape (64, 64, 64, 20)\n"
     ]
    },
    {
     "name": "stderr",
     "output_type": "stream",
     "text": [
      "100%|█████████████████████████████████████████████████████████████████████████████████████| 35/35 [17:58<00:00, 30.80s/it]"
     ]
    },
    {
     "name": "stdout",
     "output_type": "stream",
     "text": [
      "Completed successfully @ Urquidash, shape (64, 64, 64, 20)\n"
     ]
    },
    {
     "name": "stderr",
     "output_type": "stream",
     "text": [
      "\n"
     ]
    }
   ],
   "source": [
    "\"\"\"\n",
    "Loop\n",
    "\"\"\"\n",
    "def to_rcs(vec, A):\n",
    "    temp = np.ones((4,1))\n",
    "    temp[0:3,0] = vec\n",
    "    return np.squeeze(np.matmul(A,temp)[0:3])\n",
    "\n",
    "    \n",
    "DIMS = [64.,64.,64.]\n",
    "for k in tqdm(list(flowdata.keys())):\n",
    "    try:\n",
    "        if not k in output.keys():\n",
    "            Ainv = allmeta[k]['Ainv_flow']\n",
    "            origshp = flowdata[k].shape\n",
    "            rfactor = DIMS[0] / origshp[0]\n",
    "            cfactor = DIMS[1] / origshp[1]\n",
    "            sfactor = DIMS[2] / origshp[2]\n",
    "            factors = [rfactor, cfactor, sfactor]\n",
    "            outscaling[k] = factors\n",
    "            outcoords[k] = dict()\n",
    "            # Handle regular centroids first\n",
    "            regular_list = ['AV','Ao','PV', 'PA']\n",
    "            for s in regular_list:\n",
    "                try:\n",
    "                    T = len(allcentroids[k+'_'+s])\n",
    "                    netc = np.zeros((T, 3))\n",
    "                    for t in range(T):\n",
    "                        currc = to_rcs(allcentroids[k+'_' + s][t], Ainv)\n",
    "                        currc = (currc*factors)\n",
    "                        netc[t,:] = currc\n",
    "                    outcoords[k][s] = netc\n",
    "                except:\n",
    "                    traceback.print_exc()\n",
    "                    pass\n",
    "            imdata = np.array(flowdata[k][:,:,:,:,0]).astype('int16')\n",
    "            imout = zoom(imdata, (rfactor, cfactor, sfactor, 1), order=1)\n",
    "            try:\n",
    "                del output[k]\n",
    "            except:\n",
    "                pass\n",
    "            output.create_dataset(k, data=imout, dtype=np.int16, compression='lzf')\n",
    "            print('Completed successfully @ {}, shape {}'.format(k, imout.shape))\n",
    "    except:\n",
    "        pass\n",
    "with open(OUTCOORDS, 'wb') as f:\n",
    "    pickle.dump(outcoords, f)\n",
    "with open(OUTSCALING, 'wb') as f:\n",
    "    pickle.dump(outscaling, f)\n",
    "# output.close()"
   ]
  },
  {
   "cell_type": "code",
   "execution_count": 10,
   "id": "d135a87e",
   "metadata": {},
   "outputs": [],
   "source": [
    "output.close()"
   ]
  },
  {
   "cell_type": "code",
   "execution_count": 41,
   "id": "63e1dfba",
   "metadata": {},
   "outputs": [],
   "source": [
    "output = h5py.File(OUTPUT, 'r')"
   ]
  }
 ],
 "metadata": {
  "kernelspec": {
   "display_name": "Python 3 (ipykernel)",
   "language": "python",
   "name": "python3"
  },
  "language_info": {
   "codemirror_mode": {
    "name": "ipython",
    "version": 3
   },
   "file_extension": ".py",
   "mimetype": "text/x-python",
   "name": "python",
   "nbconvert_exporter": "python",
   "pygments_lexer": "ipython3",
   "version": "3.7.13"
  }
 },
 "nbformat": 4,
 "nbformat_minor": 5
}
